{
 "cells": [
  {
   "cell_type": "code",
   "execution_count": 21,
   "metadata": {},
   "outputs": [],
   "source": [
    "import os\n",
    "import torch\n",
    "import numpy as np\n",
    "import pandas as pd\n",
    "from torch import nn\n",
    "import matplotlib.pyplot as plt\n",
    "from typing import Tuple, Optional\n",
    "from torch.utils.data import DataLoader\n",
    "from typing import Optional, Tuple, List, Union, Callable\n",
    "from dataset import DigitalTwinDataset, device\n",
    "from sklearn.metrics import confusion_matrix, ConfusionMatrixDisplay\n",
    "from torch.utils.data import Dataset"
   ]
  },
  {
   "cell_type": "code",
   "execution_count": 11,
   "metadata": {},
   "outputs": [
    {
     "name": "stdout",
     "output_type": "stream",
     "text": [
      "Train Dataset:  2082\n",
      "Valid Dataset:  1552\n"
     ]
    }
   ],
   "source": [
    "\n",
    "# Define dataset hyperparameters\n",
    "sample_length = 512\n",
    "sample_length_flat = sample_length * 6\n",
    "shuffle_data = True\n",
    "\n",
    "# Create train and valid dataset\n",
    "train_dataset = DigitalTwinDataset(\"../all_data/train/\", sample_length, device, shuffle_data)\n",
    "valid_dataset = DigitalTwinDataset(\"../all_data/test/\", sample_length, device, shuffle_data)\n",
    "\n",
    "\n",
    "print('Train Dataset: ', len(train_dataset))\n",
    "print('Valid Dataset: ', len(valid_dataset))\n",
    "\n",
    "test_dataset = valid_dataset[1552//2:]\n",
    "valid_dataset = valid_dataset[:1552//2]\n"
   ]
  },
  {
   "cell_type": "code",
   "execution_count": 20,
   "metadata": {},
   "outputs": [
    {
     "data": {
      "text/plain": [
       "{'data': tensor([[-0.0659,  0.0057, -0.1045, -0.0182, -0.0382, -0.0029],\n",
       "         [-0.0636,  0.0009, -0.0968, -0.0255, -0.0351, -0.0047],\n",
       "         [-0.0603, -0.0045, -0.0879, -0.0325, -0.0317, -0.0067],\n",
       "         ...,\n",
       "         [-0.0610,  0.0385, -0.1256,  0.0443, -0.0480,  0.0158],\n",
       "         [-0.0637,  0.0355, -0.1273,  0.0375, -0.0485,  0.0133],\n",
       "         [-0.0659,  0.0324, -0.1281,  0.0308, -0.0486,  0.0111]],\n",
       "        dtype=torch.float64),\n",
       " 'label': tensor(0)}"
      ]
     },
     "execution_count": 20,
     "metadata": {},
     "output_type": "execute_result"
    }
   ],
   "source": [
    "train_dataset[0]"
   ]
  },
  {
   "cell_type": "code",
   "execution_count": 25,
   "metadata": {},
   "outputs": [
    {
     "data": {
      "text/plain": [
       "776"
      ]
     },
     "execution_count": 25,
     "metadata": {},
     "output_type": "execute_result"
    }
   ],
   "source": [
    "len(valid_dataset['data'])\n",
    "# len(valid_dataset['label'])\n"
   ]
  },
  {
   "cell_type": "code",
   "execution_count": 32,
   "metadata": {},
   "outputs": [
    {
     "name": "stdout",
     "output_type": "stream",
     "text": [
      "Dataset with 776 data and 776 label\n"
     ]
    }
   ],
   "source": [
    "class TestSet(Dataset):\n",
    "    def __init__(self, data_dict):\n",
    "\n",
    "        super(TestSet, self).__init__()\n",
    "        self.data_dict = data_dict\n",
    "        self.data, self.labels = self._get_data()\n",
    "        print(f\"Dataset with {len(self.data)} data and {len(self.labels)} label\")\n",
    "    \n",
    "    def _get_data(self):\n",
    "        data = self.data_dict['data']\n",
    "        label = self.data_dict['label']\n",
    "        return data, label\n",
    "    \n",
    "    def __len__(self):\n",
    "        return len(self.data)\n",
    "\n",
    "    def __getitem__(self, idx):\n",
    "        if torch.is_tensor(idx):\n",
    "            idx = idx.tolist()\n",
    "\n",
    "        sample = {\n",
    "            'data': self.data[idx],\n",
    "            'label': self.labels[idx]\n",
    "        }\n",
    "\n",
    "        return sample\n",
    "\n",
    "        \n",
    "\n",
    "test_set = TestSet(valid_dataset)\n",
    "        \n",
    "    \n",
    "    "
   ]
  },
  {
   "cell_type": "code",
   "execution_count": 36,
   "metadata": {},
   "outputs": [
    {
     "data": {
      "text/plain": [
       "torch.Size([512, 6])"
      ]
     },
     "execution_count": 36,
     "metadata": {},
     "output_type": "execute_result"
    }
   ],
   "source": [
    "test_set[0]['data'].shape"
   ]
  }
 ],
 "metadata": {
  "kernelspec": {
   "display_name": "digital_twin",
   "language": "python",
   "name": "python3"
  },
  "language_info": {
   "codemirror_mode": {
    "name": "ipython",
    "version": 3
   },
   "file_extension": ".py",
   "mimetype": "text/x-python",
   "name": "python",
   "nbconvert_exporter": "python",
   "pygments_lexer": "ipython3",
   "version": "3.11.5"
  }
 },
 "nbformat": 4,
 "nbformat_minor": 2
}
